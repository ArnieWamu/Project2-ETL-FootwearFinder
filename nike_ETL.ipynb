{
 "cells": [
  {
   "cell_type": "code",
   "execution_count": 1,
   "id": "424a274b",
   "metadata": {},
   "outputs": [],
   "source": [
    "# Import Dependecies\n",
    "import pandas as pd\n",
    "from splinter import Browser\n",
    "from bs4 import BeautifulSoup\n",
    "from webdriver_manager.chrome import ChromeDriverManager\n",
    "import time\n",
    "import re\n",
    "import math"
   ]
  },
  {
   "cell_type": "markdown",
   "id": "ab2c9d9e",
   "metadata": {},
   "source": [
    "# Extraction\n",
    "\n",
    "Data source:https://www.nike.com/"
   ]
  },
  {
   "cell_type": "code",
   "execution_count": 2,
   "id": "0d8a663a",
   "metadata": {
    "scrolled": true
   },
   "outputs": [
    {
     "name": "stderr",
     "output_type": "stream",
     "text": [
      "\n",
      "\n",
      "====== WebDriver manager ======\n",
      "Current google-chrome version is 96.0.4664\n",
      "Get LATEST chromedriver version for 96.0.4664 google-chrome\n",
      "Driver [C:\\Users\\JINK\\.wdm\\drivers\\chromedriver\\win32\\96.0.4664.45\\chromedriver.exe] found in cache\n"
     ]
    }
   ],
   "source": [
    "# Setup splinter\n",
    "executable_path = {'executable_path': ChromeDriverManager().install()}\n",
    "browser = Browser('chrome', **executable_path, headless=False)"
   ]
  },
  {
   "cell_type": "code",
   "execution_count": 3,
   "id": "bbe4ccb0",
   "metadata": {},
   "outputs": [],
   "source": [
    "# URL of the home page of the access\n",
    "url = 'https://www.nike.com/'\n",
    "browser.visit(url)\n",
    "\n",
    "# Resize the window size\n",
    "browser.driver.set_window_size(1320,1000)\n",
    "\n",
    "# Apply a 5-seconde delay to allow the page to load\n",
    "time.sleep(5)"
   ]
  },
  {
   "cell_type": "code",
   "execution_count": 4,
   "id": "52017908",
   "metadata": {},
   "outputs": [],
   "source": [
    "# Set the target of the tab/page to be scraped\n",
    "target = 'a[data-analytics-action-id=\"a861b746-7f75-4087-8362-17c63f25e71b\"]'\n",
    "\n",
    "# Click on the target page\n",
    "browser.find_by_tag(target).click()\n",
    "\n",
    "# Apply a 5-seconde delay to allow the page to load\n",
    "time.sleep(5)"
   ]
  },
  {
   "cell_type": "code",
   "execution_count": 5,
   "id": "c83b436f",
   "metadata": {},
   "outputs": [],
   "source": [
    "# Create a Beautiful Soup object\n",
    "html = browser.html\n",
    "soup = BeautifulSoup(html, 'html.parser')"
   ]
  },
  {
   "cell_type": "code",
   "execution_count": 6,
   "id": "056e1f43",
   "metadata": {},
   "outputs": [
    {
     "name": "stdout",
     "output_type": "stream",
     "text": [
      "The total number of items available is: 1451\n",
      "The total number of time to scroll down needed is: 60\n"
     ]
    }
   ],
   "source": [
    "# Number of items loaded to the page to be scraped every time we scroll to the bottom of the page\n",
    "items_displayed=24\n",
    "\n",
    "# Set a variable to scroll to the bottom of the page to be scraped\n",
    "scroll = \"window.scrollTo(0, document.body.scrollHeight);\"\n",
    "# browser.execute_script(scrollJS)\n",
    "\n",
    "item_count=soup.find(\"span\",class_=\"wall-header__item_count\").text\n",
    "\n",
    "# Parse through the item_count and extract the digit part\n",
    "available_items=re.sub('[()]', '', item_count)\n",
    "\n",
    "# Convert the available_items to integer\n",
    "total_items=pd.to_numeric(available_items)\n",
    "print(f\"The total number of items available is: {total_items}\")\n",
    "\n",
    "# Determine the total number of times to scroll down\n",
    "scroll_num=math.ceil((total_items/items_displayed)-1)\n",
    "print(f\"The total number of time to scroll down needed is: {scroll_num}\")"
   ]
  },
  {
   "cell_type": "code",
   "execution_count": 7,
   "id": "1593059d",
   "metadata": {},
   "outputs": [],
   "source": [
    "# Create empty lists to holds the data to be scraped\n",
    "items=[]\n",
    "categories=[]\n",
    "colors=[]\n",
    "prices=[]\n",
    "links=[]\n",
    "\n",
    "# Perform the scrolls down with a 5-seconde time delay between each one to allow the page to load\n",
    "for i in range(scroll_num):\n",
    "    browser.execute_script(scroll)   \n",
    "    time.sleep(5)\n",
    "\n",
    "# Reset the Beautiful Soup object with the fully loaded page\n",
    "html = browser.html\n",
    "soup = BeautifulSoup(html, 'html.parser')    \n",
    "\n",
    "# Save the results in a variable\n",
    "results=soup.find_all(\"div\", class_=\"product-card__body\")\n",
    "\n",
    "# Loop through the results\n",
    "for result in results:\n",
    "    \n",
    "    # Pull the item name\n",
    "    item=result.find(\"div\",class_=\"product-card__title\")\n",
    "    # Pull the item category\n",
    "    category=result.find(\"div\",class_=\"product-card__subtitle\")\n",
    "    # Pull the item available colors\n",
    "    color=result.find(\"div\",class_=\"product-card__count-item\")\n",
    "    # Pull the item price\n",
    "    price=result.find(\"div\",class_=\"product-card__price\")\n",
    "    # Pull the item link\n",
    "    link=result.a[\"href\"]\n",
    "\n",
    "# Append the items, categories and colors lists\n",
    "    items.append(item.text)\n",
    "    categories.append(category.text)\n",
    "    colors.append(color.text)\n",
    "    links.append(link)\n",
    "    \n",
    "    # Exception handling for items listed without prices\n",
    "    try:\n",
    "        prices.append(price.text)\n",
    "    except AttributeError:\n",
    "        prices.append(\"N/A\")"
   ]
  },
  {
   "cell_type": "code",
   "execution_count": 8,
   "id": "906483e8",
   "metadata": {},
   "outputs": [],
   "source": [
    "# Close the browser\n",
    "browser.quit()"
   ]
  },
  {
   "cell_type": "markdown",
   "id": "88b1fb6a",
   "metadata": {},
   "source": [
    "# Transformation"
   ]
  },
  {
   "cell_type": "code",
   "execution_count": 9,
   "id": "525f69d3",
   "metadata": {
    "scrolled": true
   },
   "outputs": [
    {
     "data": {
      "text/html": [
       "<div>\n",
       "<style scoped>\n",
       "    .dataframe tbody tr th:only-of-type {\n",
       "        vertical-align: middle;\n",
       "    }\n",
       "\n",
       "    .dataframe tbody tr th {\n",
       "        vertical-align: top;\n",
       "    }\n",
       "\n",
       "    .dataframe thead th {\n",
       "        text-align: right;\n",
       "    }\n",
       "</style>\n",
       "<table border=\"1\" class=\"dataframe\">\n",
       "  <thead>\n",
       "    <tr style=\"text-align: right;\">\n",
       "      <th></th>\n",
       "      <th>Item</th>\n",
       "      <th>Category</th>\n",
       "      <th>Colors</th>\n",
       "      <th>Price</th>\n",
       "      <th>Link</th>\n",
       "    </tr>\n",
       "  </thead>\n",
       "  <tbody>\n",
       "    <tr>\n",
       "      <th>0</th>\n",
       "      <td>LeBron 19</td>\n",
       "      <td>Basketball Shoe</td>\n",
       "      <td>1 Color</td>\n",
       "      <td>$200</td>\n",
       "      <td>https://www.nike.com/t/lebron-19-basketball-sh...</td>\n",
       "    </tr>\n",
       "    <tr>\n",
       "      <th>1</th>\n",
       "      <td>Air Jordan 1 Retro High OG</td>\n",
       "      <td>Men's Shoes</td>\n",
       "      <td>1 Color</td>\n",
       "      <td>$170</td>\n",
       "      <td>https://www.nike.com/launch/r/DH3097-001</td>\n",
       "    </tr>\n",
       "    <tr>\n",
       "      <th>2</th>\n",
       "      <td>LeBron 19</td>\n",
       "      <td>Basketball Shoe</td>\n",
       "      <td>1 Color</td>\n",
       "      <td>$200</td>\n",
       "      <td>https://www.nike.com/launch/r/DC9338-100</td>\n",
       "    </tr>\n",
       "    <tr>\n",
       "      <th>3</th>\n",
       "      <td>LeBron 19</td>\n",
       "      <td>Little Kids' Shoes</td>\n",
       "      <td>1 Color</td>\n",
       "      <td>$95</td>\n",
       "      <td>https://www.nike.com/launch/r/DD0421-100</td>\n",
       "    </tr>\n",
       "    <tr>\n",
       "      <th>4</th>\n",
       "      <td>LeBron 19</td>\n",
       "      <td>Big Kids' Basketball Shoes</td>\n",
       "      <td>1 Color</td>\n",
       "      <td>$160</td>\n",
       "      <td>https://www.nike.com/launch/r/DD0418-100</td>\n",
       "    </tr>\n",
       "  </tbody>\n",
       "</table>\n",
       "</div>"
      ],
      "text/plain": [
       "                         Item                    Category   Colors Price  \\\n",
       "0                   LeBron 19             Basketball Shoe  1 Color  $200   \n",
       "1  Air Jordan 1 Retro High OG                 Men's Shoes  1 Color  $170   \n",
       "2                   LeBron 19             Basketball Shoe  1 Color  $200   \n",
       "3                   LeBron 19          Little Kids' Shoes  1 Color   $95   \n",
       "4                   LeBron 19  Big Kids' Basketball Shoes  1 Color  $160   \n",
       "\n",
       "                                                Link  \n",
       "0  https://www.nike.com/t/lebron-19-basketball-sh...  \n",
       "1           https://www.nike.com/launch/r/DH3097-001  \n",
       "2           https://www.nike.com/launch/r/DC9338-100  \n",
       "3           https://www.nike.com/launch/r/DD0421-100  \n",
       "4           https://www.nike.com/launch/r/DD0418-100  "
      ]
     },
     "execution_count": 9,
     "metadata": {},
     "output_type": "execute_result"
    }
   ],
   "source": [
    "# Turn the data scraped into a DataFrame\n",
    "initial_df=pd.DataFrame({\"Item\":items,\"Category\":categories,\"Colors\":colors,\"Price\":prices,\"Link\":links})\n",
    "\n",
    "# Print the 5 first rows of the DataFrame\n",
    "initial_df.head()"
   ]
  },
  {
   "cell_type": "code",
   "execution_count": 10,
   "id": "0a3c1bdd",
   "metadata": {},
   "outputs": [
    {
     "name": "stdout",
     "output_type": "stream",
     "text": [
      "<class 'pandas.core.frame.DataFrame'>\n",
      "RangeIndex: 1451 entries, 0 to 1450\n",
      "Data columns (total 5 columns):\n",
      " #   Column    Non-Null Count  Dtype \n",
      "---  ------    --------------  ----- \n",
      " 0   Item      1451 non-null   object\n",
      " 1   Category  1451 non-null   object\n",
      " 2   Colors    1451 non-null   object\n",
      " 3   Price     1451 non-null   object\n",
      " 4   Link      1451 non-null   object\n",
      "dtypes: object(5)\n",
      "memory usage: 56.8+ KB\n"
     ]
    }
   ],
   "source": [
    "# Inspect the columns data type\n",
    "initial_df.info()"
   ]
  },
  {
   "cell_type": "code",
   "execution_count": 11,
   "id": "e08ae051",
   "metadata": {},
   "outputs": [],
   "source": [
    "# Select all the rows except the ones without price\n",
    "updated_df=initial_df.loc[initial_df[\"Price\"]!=\"N/A\"]\n",
    "\n",
    "# Deactivate the warning for chained assignment\n",
    "pd.options.mode.chained_assignment = None \n",
    "\n",
    "# Parse through the item_count and extract the digit part of the current price\n",
    "updated_df[\"Price\"]=[re.split(r\"\\$+\", i)[1] for i in updated_df[\"Price\"]]\n",
    "\n",
    "# Convert the available_items to decimal\n",
    "updated_df[\"Price\"]=updated_df[\"Price\"].astype(float)"
   ]
  },
  {
   "cell_type": "code",
   "execution_count": 12,
   "id": "35508636",
   "metadata": {
    "scrolled": true
   },
   "outputs": [
    {
     "name": "stdout",
     "output_type": "stream",
     "text": [
      "<class 'pandas.core.frame.DataFrame'>\n",
      "Int64Index: 1450 entries, 0 to 1450\n",
      "Data columns (total 5 columns):\n",
      " #   Column    Non-Null Count  Dtype  \n",
      "---  ------    --------------  -----  \n",
      " 0   Item      1450 non-null   object \n",
      " 1   Category  1450 non-null   object \n",
      " 2   Colors    1450 non-null   object \n",
      " 3   Price     1450 non-null   float64\n",
      " 4   Link      1450 non-null   object \n",
      "dtypes: float64(1), object(4)\n",
      "memory usage: 68.0+ KB\n"
     ]
    }
   ],
   "source": [
    "# Inspect the columns data type of the updated_df\n",
    "updated_df.info()"
   ]
  },
  {
   "cell_type": "code",
   "execution_count": 15,
   "id": "73186c7d",
   "metadata": {},
   "outputs": [],
   "source": [
    "# Export the DataFrame in .csv file\n",
    "updated_df.to_csv(\"Output/nike.csv\")"
   ]
  },
  {
   "cell_type": "markdown",
   "id": "52b2c668",
   "metadata": {},
   "source": [
    "# Loading to a Database"
   ]
  },
  {
   "cell_type": "markdown",
   "id": "3169c490",
   "metadata": {},
   "source": [
    "To add the code once we decided the database type"
   ]
  }
 ],
 "metadata": {
  "kernelspec": {
   "display_name": "Python 3",
   "language": "python",
   "name": "python3"
  },
  "language_info": {
   "codemirror_mode": {
    "name": "ipython",
    "version": 3
   },
   "file_extension": ".py",
   "mimetype": "text/x-python",
   "name": "python",
   "nbconvert_exporter": "python",
   "pygments_lexer": "ipython3",
   "version": "3.8.8"
  }
 },
 "nbformat": 4,
 "nbformat_minor": 5
}
